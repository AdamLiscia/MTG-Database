{
 "cells": [
  {
   "cell_type": "code",
   "execution_count": 1,
   "metadata": {},
   "outputs": [],
   "source": [
    "import requests\n",
    "\n",
    "public_key = 'DABED781-3155-46C5-8297-02852684B959'\n",
    "private_key = 'B154EE91-4892-4FA9-9ED1-D335E7D08065'"
   ]
  },
  {
   "cell_type": "code",
   "execution_count": 2,
   "metadata": {},
   "outputs": [
    {
     "data": {
      "text/plain": [
       "{'access_token': 'E_nSGeEd_NWrvdac_WAF6Lndz_sSOZZ85v2AgLir1iLGP-xFoDb0_J6hcmrS5YJuatxgLoeyXnwlcZgy2orvugdkglPQzU8EJNHVtYiH5uQC3P3dL5qdJCk14ysbT9cHCtVQ8QK_JvnJSChotbJb2knMzXK6MNWBvN_nqZqKzcZ8WWa_jMhDmBakmJeeIs97GgDz9D7pWPolUX_9_QqumYLbQ_Sglwis0B-NCUnT5bMq_IlRZ7nSzAhyWIgZeJsPoXRls3ddhjVZoozYSR_kVaJfQB7gsfij3k-5eoJgzzegbBhqzOVY5Rbw3_orvbkSXM-rJw',\n",
       " 'token_type': 'bearer',\n",
       " 'expires_in': 1209599,\n",
       " 'userName': 'dabed781-3155-46c5-8297-02852684b959',\n",
       " '.issued': 'Tue, 09 Jul 2019 18:34:08 GMT',\n",
       " '.expires': 'Tue, 23 Jul 2019 18:34:08 GMT'}"
      ]
     },
     "execution_count": 2,
     "metadata": {},
     "output_type": "execute_result"
    }
   ],
   "source": [
    "# This will retrieve our BEARER_TOKEN\n",
    "\n",
    "headers = {'application': 'x-www-form-urlencoded'}\n",
    "\n",
    "data = 'grant_type=client_credentials&client_id='+ public_key + '&client_secret=' + private_key\n",
    "\n",
    "response = requests.post('https://api.tcgplayer.com/token', headers=headers, data=data)\n",
    "\n",
    "response.json()"
   ]
  },
  {
   "cell_type": "code",
   "execution_count": null,
   "metadata": {},
   "outputs": [],
   "source": [
    "# Bearer Token - This need's to be in the headers of the query\n",
    "\n",
    "BEARER_TOKEN = \"LtdVEcwDtrDBD-Y6vsHg9yRhN6BSZWRPBdGRso47EtG1IDuKs5hKdIrYA8xBJhROoXjjAjKP4Ct6bbQa3XUdarnWVzrm0Yt-ybcdmxyh0A8N1mgQpy4Vo8VEFwaeX8uWCF2XolI2C9_RLklpAIX5agMN-x9mIPyY6t8Bkd33Yk9nYWxBHIOWZNJmE-WSyMjJ1JVmcTBfX0XDIV8BUefCiQez0-lghzR4swiiE5FE_WVuc_xacCPw_hSRVs5_IhFgg6aCOY9ACO4c9IwahJDHFOo0Q3nZTbsnbZxpCf4FNbVFKlYuP0kBUAee0RcwvWctpout6w\""
   ]
  },
  {
   "cell_type": "code",
   "execution_count": null,
   "metadata": {},
   "outputs": [],
   "source": []
  }
 ],
 "metadata": {
  "kernelspec": {
   "display_name": "Python 3",
   "language": "python",
   "name": "python3"
  },
  "language_info": {
   "codemirror_mode": {
    "name": "ipython",
    "version": 3
   },
   "file_extension": ".py",
   "mimetype": "text/x-python",
   "name": "python",
   "nbconvert_exporter": "python",
   "pygments_lexer": "ipython3",
   "version": "3.6.5"
  }
 },
 "nbformat": 4,
 "nbformat_minor": 2
}
