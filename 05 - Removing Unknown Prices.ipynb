{
 "cells": [
  {
   "cell_type": "markdown",
   "metadata": {},
   "source": [
    "The purpose of this code is to remove all the rows that have no pricing data. It's done by:\n",
    "\n",
    "   * Importing a table of values\n",
    "   * Create a new column ('drop_zeros') that's the sum of the prices for that row\n",
    "   * Then drop all rows with a 'drop_zeros' value of 0\n",
    "        * This means there was no prices in that row\n",
    "   * Remove the 'drop_zeros' column\n",
    "   * Set the index to SKU"
   ]
  },
  {
   "cell_type": "code",
   "execution_count": null,
   "metadata": {},
   "outputs": [],
   "source": [
    "import pandas as pd\n",
    "\n",
    "csv_file = 'Data/sku_prices_071519.csv'\n",
    "\n",
    "df = pd.read_csv(csv_file)\n",
    "\n",
    "col_list = ['lowPrice', 'lowestShipping', 'lowestListingPrice', 'marketPrice', 'directLowPrice']\n",
    "\n",
    "df['drop_zeros'] = df[col_list].sum(axis = 1)\n",
    "\n",
    "df = df[df.drop_zeros != 0]\n",
    "\n",
    "df = df.drop('drop_zeros', axis = 1)\n",
    "\n",
    "df.set_index('sku', inplace = True)\n",
    "\n",
    "df.to_csv('Data/cleaned_' + csv_file[-10:])"
   ]
  }
 ],
 "metadata": {
  "kernelspec": {
   "display_name": "Python 3",
   "language": "python",
   "name": "python3"
  },
  "language_info": {
   "codemirror_mode": {
    "name": "ipython",
    "version": 3
   },
   "file_extension": ".py",
   "mimetype": "text/x-python",
   "name": "python",
   "nbconvert_exporter": "python",
   "pygments_lexer": "ipython3",
   "version": "3.7.4"
  }
 },
 "nbformat": 4,
 "nbformat_minor": 2
}
